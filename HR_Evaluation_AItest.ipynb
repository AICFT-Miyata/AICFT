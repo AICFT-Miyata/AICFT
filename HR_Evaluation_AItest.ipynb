{
  "nbformat": 4,
  "nbformat_minor": 0,
  "metadata": {
    "colab": {
      "provenance": [],
      "mount_file_id": "1T2xTyn32HvOqZ455ZXWa3kwcVNt4VEIO",
      "authorship_tag": "ABX9TyPIEJXD4DHfdZU7ohyUnqVC",
      "include_colab_link": true
    },
    "kernelspec": {
      "name": "python3",
      "display_name": "Python 3"
    },
    "language_info": {
      "name": "python"
    }
  },
  "cells": [
    {
      "cell_type": "markdown",
      "metadata": {
        "id": "view-in-github",
        "colab_type": "text"
      },
      "source": [
        "<a href=\"https://colab.research.google.com/github/AICFT-Miyata/AICFT/blob/main/HR_Evaluation_AItest.ipynb\" target=\"_parent\"><img src=\"https://colab.research.google.com/assets/colab-badge.svg\" alt=\"Open In Colab\"/></a>"
      ]
    },
    {
      "cell_type": "code",
      "execution_count": null,
      "metadata": {
        "colab": {
          "base_uri": "https://localhost:8080/"
        },
        "id": "Kz0f4rtIE1Ce",
        "outputId": "4efcf9fd-a5cc-4b95-b5ac-54c16d48fe00"
      },
      "outputs": [
        {
          "output_type": "stream",
          "name": "stdout",
          "text": [
            "Drive already mounted at /content/drive; to attempt to forcibly remount, call drive.mount(\"/content/drive\", force_remount=True).\n",
            "テスト用入力ファイルを作成しました。\n"
          ]
        }
      ],
      "source": [
        "# Colab セル 1: 環境設定とテスト用パス設定\n",
        "from google.colab import drive\n",
        "import json\n",
        "import os\n",
        "\n",
        "# Driveのマウント\n",
        "drive.mount('/content/drive')\n",
        "\n",
        "# === パス設定 (ご自身のフォルダ名に合わせて調整) ===\n",
        "GDRIVE_PATH = '/content/drive/MyDrive/AICFT/人事評価支援ツール/HR_Evaluation_AI'\n",
        "INPUT_FILE = GDRIVE_PATH + 'form_input.json'\n",
        "OUTPUT_FILE = GDRIVE_PATH + 'form_output.json'\n",
        "\n",
        "# テスト用入力データの作成（VBAの書き出しをシミュレート）\n",
        "test_data = {\n",
        "    \"目標内容\": \"新規システムの導入プロジェクトを主導し、期日までに安定稼働を実現する。\",\n",
        "    \"重要度\": \"A\",\n",
        "    \"困難度\": \"B\",\n",
        "    \"被評価者コメント\": \"システム自体は期日通りに稼働したが、初期トラブルの対応で残業が増えてしまった。ユーザートレーニングは計画通り実施できた。\",\n",
        "    \"業績評価\": \"B\"\n",
        "}\n",
        "if not os.path.exists(GDRIVE_PATH):\n",
        "    os.makedirs(GDRIVE_PATH)\n",
        "with open(INPUT_FILE, 'w', encoding='utf-8') as f:\n",
        "    json.dump(test_data, f, ensure_ascii=False, indent=2)\n",
        "\n",
        "print(\"テスト用入力ファイルを作成しました。\")"
      ]
    },
    {
      "cell_type": "code",
      "source": [
        "# Colab セル 2: 所見生成ロジックのテスト\n",
        "# ※ このコードをベースに、最終的に generate_feedback.py を作成します\n",
        "\n",
        "def generate_simple_feedback(data):\n",
        "    target = data.get(\"目標内容\", \"\")\n",
        "    rating = data.get(\"業績評価\", \"C\").upper()\n",
        "    comment = data.get(\"被評価者コメント\", \"\")\n",
        "\n",
        "    # 評価に応じたテンプレートの選択\n",
        "    if rating in [\"S\", \"A\"]:\n",
        "        summary = f\"**{target}**について、極めて高い水準で目標を達成しました。自己コメントにある通り、期待以上の成果です。\"\n",
        "        praise = \"特に、プロジェクトを主導する能力は目覚ましく、難易度の高い課題も自力で解決できています。\"\n",
        "        future = \"今後は、この成果を他部署のメンバーに共有し、標準化を推進するリーダーシップを期待します。\"\n",
        "    elif rating == \"B\":\n",
        "        summary = f\"**{target}**は、概ね期待通りの水準（B評価）で達成されました。\"\n",
        "        praise = f\"期日通りの稼働実現は高く評価できますが、自己コメントにある初期トラブルの対応に時間を要した点は課題です。\"\n",
        "        future = \"予期せぬリスクに対する事前準備と、トラブル発生時の早期エスカレーション体制の強化を次期目標とします。\"\n",
        "    else: # C, D, E\n",
        "        summary = f\"**{target}**は、目標水準（B）を下回る結果となりました。\"\n",
        "        praise = \"初期の準備不足や進捗管理に遅れが見られました。\"\n",
        "        future = \"次期は、目標の分解とマイルストーン設定を徹底し、週次で進捗を上司と共有することを必須とします。\"\n",
        "\n",
        "    # 最終所見として整形\n",
        "    return f\"{summary}\\n\\n【具体的な評価】\\n{praise}\\n\\n【次期への期待・改善点】\\n{future}\"\n",
        "\n",
        "# テスト実行\n",
        "try:\n",
        "    with open(INPUT_FILE, 'r', encoding='utf-8') as f:\n",
        "        input_data = json.load(f)\n",
        "\n",
        "    ai_feedback = generate_simple_feedback(input_data)\n",
        "    print(\"\\n=== 生成された所見のテスト結果 ===\")\n",
        "    print(ai_feedback)\n",
        "\n",
        "except Exception as e:\n",
        "    print(f\"エラー: {e}\")"
      ],
      "metadata": {
        "colab": {
          "base_uri": "https://localhost:8080/"
        },
        "id": "WlSj6IC-KAc9",
        "outputId": "1af3d329-b4f7-4247-a48a-10f49e92b60b"
      },
      "execution_count": null,
      "outputs": [
        {
          "output_type": "stream",
          "name": "stdout",
          "text": [
            "\n",
            "=== 生成された所見のテスト結果 ===\n",
            "**新規システムの導入プロジェクトを主導し、期日までに安定稼働を実現する。**は、概ね期待通りの水準（B評価）で達成されました。\n",
            "\n",
            "【具体的な評価】\n",
            "期日通りの稼働実現は高く評価できますが、自己コメントにある初期トラブルの対応に時間を要した点は課題です。\n",
            "\n",
            "【次期への期待・改善点】\n",
            "予期せぬリスクに対する事前準備と、トラブル発生時の早期エスカレーション体制の強化を次期目標とします。\n"
          ]
        }
      ]
    },
    {
      "cell_type": "code",
      "source": [
        "# generate_feedback.py の最終コード\n",
        "\n",
        "import json\n",
        "import os\n",
        "import sys\n",
        "\n",
        "# ----------------------------------------\n",
        "# 1. 所見生成のロジック関数 (ステップ 1-2 で作成したもの)\n",
        "# ----------------------------------------\n",
        "def generate_simple_feedback(data):\n",
        "    target = data.get(\"目標内容\", \"\")\n",
        "    rating = data.get(\"業績評価\", \"C\").upper()\n",
        "    comment = data.get(\"被評価者コメント\", \"\")\n",
        "\n",
        "    # 評価に応じたテンプレートの選択 (簡略化)\n",
        "    if rating in [\"S\", \"A\"]:\n",
        "        summary = f\"**{target}**について、極めて高い水準で目標を達成しました。自己コメントにある通り、期待以上の成果です。\"\n",
        "        praise = \"特に、プロジェクトを主導する能力は目覚ましく、難易度の高い課題も自力で解決できています。\"\n",
        "        future = \"今後は、この成果を他部署のメンバーに共有し、標準化を推進するリーダーシップを期待します。\"\n",
        "    elif rating == \"B\":\n",
        "        summary = f\"**{target}**は、概ね期待通りの水準（B評価）で達成されました。\"\n",
        "        praise = f\"期日通りの稼働実現は高く評価できますが、自己コメントにある初期トラブルの対応に時間を要した点は課題です。\"\n",
        "        future = \"予期せぬリスクに対する事前準備と、トラブル発生時の早期エスカレーション体制の強化を次期目標とします。\"\n",
        "    else: # C, D, E\n",
        "        summary = f\"**{target}**は、目標水準（B）を下回る結果となりました。\"\n",
        "        praise = \"初期の準備不足や進捗管理に遅れが見られました。\"\n",
        "        future = \"次期は、目標の分解とマイルストーン設定を徹底し、週次で進捗を上司と共有することを必須とします。\"\n",
        "\n",
        "    return f\"{summary}\\n\\n【具体的な評価】\\n{praise}\\n\\n【次期への期待・改善点】\\n{future}\"\n",
        "\n",
        "# ----------------------------------------\n",
        "# 2. メイン実行処理\n",
        "# ----------------------------------------\n",
        "if __name__ == \"__main__\":\n",
        "    # Colabでの絶対パスを指定 (Driveマウント前提)\n",
        "    GDRIVE_PATH = '/content/drive/MyDrive/AICFT/人事評価支援ツール/HR_Evaluation_AI'\n",
        "    INPUT_FILE = GDRIVE_PATH + 'form_input.json'\n",
        "    OUTPUT_FILE = GDRIVE_PATH + 'form_output.json'\n",
        "\n",
        "    try:\n",
        "        # 入力JSONの読み込み\n",
        "        with open(INPUT_FILE, 'r', encoding='utf-8') as f:\n",
        "            input_data = json.load(f)\n",
        "\n",
        "        # 所見生成\n",
        "        ai_feedback = generate_simple_feedback(input_data)\n",
        "\n",
        "        # 結果JSONの作成と保存\n",
        "        output_data = {\"AI所見\": ai_feedback}\n",
        "        with open(OUTPUT_FILE, 'w', encoding='utf-8') as f:\n",
        "            json.dump(output_data, f, ensure_ascii=False, indent=2)\n",
        "\n",
        "        print(f\"所見の生成が完了し、結果をGoogle Driveに保存しました: {OUTPUT_FILE}\")\n",
        "\n",
        "    except FileNotFoundError:\n",
        "        print(f\"エラー: 入力ファイルが見つかりません: {INPUT_FILE}\", file=sys.stderr)\n",
        "    except Exception as e:\n",
        "        print(f\"処理エラー: {e}\", file=sys.stderr)"
      ],
      "metadata": {
        "colab": {
          "base_uri": "https://localhost:8080/"
        },
        "id": "xGYlq4oBK9Ul",
        "outputId": "04440c92-041e-4224-b4ac-4e1a30c3b704"
      },
      "execution_count": null,
      "outputs": [
        {
          "output_type": "stream",
          "name": "stdout",
          "text": [
            "所見の生成が完了し、結果をGoogle Driveに保存しました: /content/drive/MyDrive/AICFT/人事評価支援ツール/HR_Evaluation_AIform_output.json\n"
          ]
        }
      ]
    }
  ]
}